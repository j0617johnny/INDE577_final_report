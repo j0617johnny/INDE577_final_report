{
 "cells": [
  {
   "cell_type": "code",
   "execution_count": 2,
   "metadata": {},
   "outputs": [],
   "source": [
    "# Import necessary packages \n",
    "import numpy as np\n",
    "import pandas as pd\n",
    "import matplotlib.pyplot as plt\n",
    "from sklearn.preprocessing import StandardScaler\n",
    "from sklearn.model_selection import train_test_split\n",
    "from sklearn.datasets import load_breast_cancer\n",
    "from sklearn.datasets import load_iris\n",
    "from sklearn.metrics import accuracy_score\n",
    "from sklearn import metrics\n",
    "import seaborn as sns"
   ]
  },
  {
   "cell_type": "code",
   "execution_count": 3,
   "metadata": {},
   "outputs": [],
   "source": [
    "# Implement model for logistic regression\n",
    "class gradient_descent_Logit_R():\n",
    "    # initialize\n",
    "    def __init__(self) -> None:\n",
    "        self.X = None\n",
    "        self.variables = None\n",
    "        self.y = None\n",
    "        self.predictor = None\n",
    "        self.n = None\n",
    "        self.p = None\n",
    "        self.bias = None\n",
    "        self.gamma = None\n",
    "        self.max_iter = None\n",
    "        self.eta = None\n",
    "\n",
    "        self.weights = None\n",
    "        self.weights_history = []\n",
    "        self.loss_history = [np.inf]\n",
    "    \n",
    "    # cross entropy loss of one data\n",
    "    def cross_entropy_loss(self, y, y_hat):\n",
    "        return -y*np.log(y_hat) - (1.0-y)*np.log(1.0-y_hat)\n",
    "\n",
    "    # total cross entropy loss\n",
    "    def loss(self):\n",
    "        total_loss = sum(self.cross_entropy_loss(self.y[i], self.sigmoid(x@self.weights)) for i, x in enumerate(self.X))\n",
    "        return total_loss\n",
    "\n",
    "    # sigmoid function\n",
    "    def sigmoid(self, z):\n",
    "        return 1.0/(1.0 + np.exp(-z))\n",
    "\n",
    "    # gradient of loss\n",
    "    def gradient_L(self):\n",
    "        sigmoids = np.array([self.sigmoid(x@self.weights) - self.y[i] for i, x in enumerate(self.X)])\n",
    "        d_w = sigmoids @ self.X\n",
    "        return d_w\n",
    "\n",
    "    # model fitting\n",
    "    def fit(self, X, y, bias=True, gamma=0.01, max_iter=100, eta=0.001):\n",
    "        self.variables = X.columns\n",
    "        self.predictor = y.name\n",
    "        \n",
    "        X = X.to_numpy()\n",
    "        y = y.to_numpy()\n",
    "        if bias:\n",
    "            ones_column = np.ones((X.shape[0], 1))\n",
    "            X = np.append(ones_column, X, axis=1)\n",
    "        self.X = X\n",
    "        self.y = y\n",
    "        self.n = X.shape[0]\n",
    "        self.p = X.shape[1]\n",
    "        self.bias = bias\n",
    "        self.gamma = gamma\n",
    "        self.max_iter = max_iter\n",
    "        self.eta = eta\n",
    "        \n",
    "        weights = np.random.rand(self.p)\n",
    "        self.weights = weights\n",
    "        self.weights_history.append(weights)\n",
    "        for i in range(1, max_iter+1):\n",
    "            dw = self.gradient_L()\n",
    "            weights = weights - gamma * dw\n",
    "            self.weights = weights\n",
    "            self.weights_history.append(weights)\n",
    "            L = self.loss()\n",
    "            self.loss_history.append(L)\n",
    "            if i >= self.max_iter or abs(L - self.loss_history[i-1]) <= self.eta:\n",
    "                break\n",
    "    \n",
    "    # predict new data\n",
    "    def prediction(self, X, weights):\n",
    "        X = X.to_numpy()\n",
    "        if self.bias:\n",
    "            ones_column = np.ones((X.shape[0], 1))\n",
    "            X = np.append(ones_column, X, axis=1)\n",
    "        labels = np.array([1, 0])\n",
    "        y_hat = [self.sigmoid(x @ weights) for x in X]\n",
    "        return [np.random.choice(labels, p = [y_hat_i, 1.0-y_hat_i]) for y_hat_i in y_hat]"
   ]
  },
  {
   "cell_type": "markdown",
   "metadata": {},
   "source": [
    "Classification problem: Iris data\n",
    "\n",
    "Iris data from python package was chosen for the logistric regression modeling."
   ]
  },
  {
   "cell_type": "code",
   "execution_count": 4,
   "metadata": {},
   "outputs": [],
   "source": [
    "# Import the IRIS dataset\n",
    "X, y = load_iris(return_X_y=True, as_frame=True)\n",
    "X = X[y!=2]\n",
    "y = y[y!=2]"
   ]
  },
  {
   "cell_type": "code",
   "execution_count": 5,
   "metadata": {},
   "outputs": [
    {
     "data": {
      "text/html": [
       "<div>\n",
       "<style scoped>\n",
       "    .dataframe tbody tr th:only-of-type {\n",
       "        vertical-align: middle;\n",
       "    }\n",
       "\n",
       "    .dataframe tbody tr th {\n",
       "        vertical-align: top;\n",
       "    }\n",
       "\n",
       "    .dataframe thead th {\n",
       "        text-align: right;\n",
       "    }\n",
       "</style>\n",
       "<table border=\"1\" class=\"dataframe\">\n",
       "  <thead>\n",
       "    <tr style=\"text-align: right;\">\n",
       "      <th></th>\n",
       "      <th>0</th>\n",
       "      <th>1</th>\n",
       "      <th>2</th>\n",
       "      <th>3</th>\n",
       "    </tr>\n",
       "  </thead>\n",
       "  <tbody>\n",
       "    <tr>\n",
       "      <th>0</th>\n",
       "      <td>-0.581066</td>\n",
       "      <td>0.841837</td>\n",
       "      <td>-1.012978</td>\n",
       "      <td>-1.042111</td>\n",
       "    </tr>\n",
       "    <tr>\n",
       "      <th>1</th>\n",
       "      <td>-0.894309</td>\n",
       "      <td>-0.207835</td>\n",
       "      <td>-1.012978</td>\n",
       "      <td>-1.042111</td>\n",
       "    </tr>\n",
       "    <tr>\n",
       "      <th>2</th>\n",
       "      <td>-1.207552</td>\n",
       "      <td>0.212034</td>\n",
       "      <td>-1.082312</td>\n",
       "      <td>-1.042111</td>\n",
       "    </tr>\n",
       "    <tr>\n",
       "      <th>3</th>\n",
       "      <td>-1.364174</td>\n",
       "      <td>0.002099</td>\n",
       "      <td>-0.943643</td>\n",
       "      <td>-1.042111</td>\n",
       "    </tr>\n",
       "    <tr>\n",
       "      <th>4</th>\n",
       "      <td>-0.737687</td>\n",
       "      <td>1.051772</td>\n",
       "      <td>-1.012978</td>\n",
       "      <td>-1.042111</td>\n",
       "    </tr>\n",
       "  </tbody>\n",
       "</table>\n",
       "</div>"
      ],
      "text/plain": [
       "          0         1         2         3\n",
       "0 -0.581066  0.841837 -1.012978 -1.042111\n",
       "1 -0.894309 -0.207835 -1.012978 -1.042111\n",
       "2 -1.207552  0.212034 -1.082312 -1.042111\n",
       "3 -1.364174  0.002099 -0.943643 -1.042111\n",
       "4 -0.737687  1.051772 -1.012978 -1.042111"
      ]
     },
     "execution_count": 5,
     "metadata": {},
     "output_type": "execute_result"
    }
   ],
   "source": [
    "# Scale the dataset to eliminate zeroes\n",
    "X_scaler = StandardScaler()\n",
    "X_scaled = pd.DataFrame(X_scaler.fit_transform(X))\n",
    "X_scaled.head()"
   ]
  },
  {
   "cell_type": "code",
   "execution_count": 6,
   "metadata": {},
   "outputs": [],
   "source": [
    "# Split the datset into test and train and fit the data\n",
    "X_train, X_test, y_train, y_test = train_test_split(X_scaled, y, random_state=50)\n",
    "model = gradient_descent_Logit_R()\n",
    "model.fit(X_train, y_train,gamma=0.01, max_iter=1000)"
   ]
  },
  {
   "cell_type": "code",
   "execution_count": 7,
   "metadata": {},
   "outputs": [
    {
     "data": {
      "image/png": "[encoded data removed]",
      "text/plain": [
       "<Figure size 640x480 with 1 Axes>"
      ]
     },
     "metadata": {},
     "output_type": "display_data"
    }
   ],
   "source": [
    "# Plot the loss function\n",
    "plt.plot(model.loss_history)\n",
    "plt.xlabel('iteration')\n",
    "plt.ylabel('loss')\n",
    "plt.show()"
   ]
  },
  {
   "cell_type": "code",
   "execution_count": 8,
   "metadata": {},
   "outputs": [
    {
     "name": "stdout",
     "output_type": "stream",
     "text": [
      "Logistic regression, accuracy score = 1.0\n"
     ]
    }
   ],
   "source": [
    "# Report the accuracy score\n",
    "y_pred = model.prediction(X_test, model.weights)\n",
    "print(f'Logistic regression, accuracy score = {accuracy_score(y_test, y_pred)}')"
   ]
  },
  {
   "cell_type": "code",
   "execution_count": 9,
   "metadata": {},
   "outputs": [
    {
     "data": {
      "image/png": "[encoded data removed]",
      "text/plain": [
       "<Figure size 500x400 with 2 Axes>"
      ]
     },
     "metadata": {},
     "output_type": "display_data"
    }
   ],
   "source": [
    "# Report the confusion matrix\n",
    "confusion_matrix = metrics.confusion_matrix(y_test, y_pred)\n",
    "\n",
    "matrix_df = pd.DataFrame(confusion_matrix)\n",
    "\n",
    "plt.figure(figsize=(5,4))\n",
    "ax=plt.axes()\n",
    "sns.set(font_scale=1.3)\n",
    "\n",
    "sns.heatmap(matrix_df, annot=True, fmt='g', ax=ax, cmap='magma')\n",
    "ax.set_title('Confusion Matrix of Ensemble Model')\n",
    "ax.set_xlabel('predicted label', fontsize=10)\n",
    "ax.set_ylabel('True label', fontsize=10)\n",
    "plt.show()"
   ]
  },
  {
   "cell_type": "markdown",
   "metadata": {},
   "source": [
    "## Logistic Regression Model Performance on Iris Dataset\n",
    "\n",
    "### Loss Function vs Iteration Number\n",
    "\n",
    "When training the logistic regression model on the Iris dataset, a plot of the loss function versus the iteration number was generated. It was observed that as the iteration number increased, the loss of the model decreased. This behavior is expected during the training process of iterative optimization algorithms like gradient descent, where the model iteratively updates its parameters to minimize the loss function.\n",
    "\n",
    "### Confusion Matrix and Accuracy\n",
    "\n",
    "After training the logistic regression model, a confusion matrix was computed to evaluate its performance on the Iris dataset. The confusion matrix provides a tabular representation of the model's predictions compared to the ground truth labels. Based on the confusion matrix, the model achieved a high accuracy, indicating that it correctly classified a significant portion of the Iris dataset samples.\n",
    "\n",
    "### Interpretation\n",
    "\n",
    "- **Decreasing Loss Function:** The decrease in the loss function over iterations indicates that the logistic regression model successfully learned from the training data and improved its predictive performance. As the model adjusted its parameters to minimize the loss, it became better at distinguishing between different classes of Iris flowers.\n",
    "\n",
    "- **High Accuracy:** The high accuracy observed in the confusion matrix indicates that the logistic regression model achieved strong performance in classifying Iris flowers into their respective species categories. This suggests that the model learned meaningful patterns from the input features and effectively generalized to unseen data.\n",
    "\n",
    "Overall, the logistic regression model demonstrated effective learning and classification capabilities on the Iris dataset, as evidenced by the decreasing loss function and high accuracy achieved during training and evaluation.\n"
   ]
  }
 ],
 "metadata": {
  "kernelspec": {
   "display_name": "Python 3",
   "language": "python",
   "name": "python3"
  },
  "language_info": {
   "codemirror_mode": {
    "name": "ipython",
    "version": 3
   },
   "file_extension": ".py",
   "mimetype": "text/x-python",
   "name": "python",
   "nbconvert_exporter": "python",
   "pygments_lexer": "ipython3",
   "version": "3.12.3"
  }
 },
 "nbformat": 4,
 "nbformat_minor": 2
}
